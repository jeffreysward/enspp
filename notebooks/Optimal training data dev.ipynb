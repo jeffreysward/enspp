{
 "cells": [
  {
   "cell_type": "code",
   "execution_count": 8,
   "metadata": {},
   "outputs": [],
   "source": [
    "import enspp.bma as bma\n",
    "import matplotlib.pyplot as plt\n",
    "import numpy as np\n",
    "import pandas as pd\n",
    "from wrfpywind import data_preprocess as pp\n",
    "import xarray as xr"
   ]
  },
  {
   "cell_type": "code",
   "execution_count": 2,
   "metadata": {},
   "outputs": [],
   "source": [
    "# Path to data\n",
    "datadir = '../data/'"
   ]
  },
  {
   "cell_type": "code",
   "execution_count": 3,
   "metadata": {},
   "outputs": [],
   "source": [
    "# Specify the forecast initialization time\n",
    "t_init = '2019-12-08'\n",
    "t_init = pd.to_datetime(t_init)"
   ]
  },
  {
   "cell_type": "code",
   "execution_count": 4,
   "metadata": {},
   "outputs": [],
   "source": [
    "# Read in the observational data\n",
    "obs = pp.fmt_buoy_wspd(\n",
    "                       data_path='/share/mzhang/jas983/wrf_data/oshwind/wrfpywind/wrfpywind/data/nyserda_buoy/', \n",
    "                       south_dates_str='20190904_20210207', north_dates_str='20190812_20210207', \n",
    "                       heights=[20, 40, 60, 80, 100, 120, 140, 160, 180, 200],\n",
    "                       start_date='12-01-2019', end_date='12-31-2019')"
   ]
  },
  {
   "cell_type": "markdown",
   "metadata": {},
   "source": [
    "Get and format the test data"
   ]
  },
  {
   "cell_type": "code",
   "execution_count": 5,
   "metadata": {},
   "outputs": [],
   "source": [
    "# Read in and format the test data\n",
    "t_end = t_init + pd.DateOffset(days=4)\n",
    "test_data = bma.get_fmt_df(obs, t_init, t_end, datadir=datadir, type='test')"
   ]
  },
  {
   "cell_type": "markdown",
   "metadata": {},
   "source": [
    "Get and format the training data for `n_days` of data"
   ]
  },
  {
   "cell_type": "code",
   "execution_count": 6,
   "metadata": {},
   "outputs": [],
   "source": [
    "mean_crps = np.zeros(7)\n",
    "# Decide how many days of data you would like to use\n",
    "for ii, n_days in enumerate(range(1,8)):\n",
    "\n",
    "    # Find the first training day\n",
    "    d1_training = t_init - pd.DateOffset(days=n_days)\n",
    "\n",
    "    # Specify the start dates  \n",
    "    start_dates = pd.date_range(d1_training, periods=n_days)\n",
    "\n",
    "    # Specify the end dates by specifying how long these simlulations should last\n",
    "    end_dates = start_dates + pd.DateOffset(days=4)\n",
    "\n",
    "    for ii in range(0,len(start_dates)):\n",
    "        # Read in an format the training data\n",
    "        train_data_new = bma.get_fmt_df(obs, start_dates[ii], end_dates[ii], datadir=datadir, type='train')\n",
    "\n",
    "        if ii == 0:\n",
    "            # Create the train_data DataFrame\n",
    "            train_data = train_data_new\n",
    "        else:\n",
    "            # Concat the new data into the same training DataFrame \n",
    "            train_data = pd.concat([train_data, train_data_new], axis=0)\n",
    "\n",
    "    # Finally remove any data from after the WRF initialization time\n",
    "    train_data = train_data[train_data['Time'] < t_init]\n",
    "\n",
    "    # And reset the index\n",
    "    train_data = train_data.reset_index(drop=True)\n",
    "\n",
    "    # Fit the BMA parameters\n",
    "    fit = bma.get_bma_fit(train_data)\n",
    "\n",
    "    # Calculate the CRPS\n",
    "    crps = bma.get_crps(fit, test_data, n_ens_members=5, gamma_bma=None)\n",
    "    # To determine the optimal amount of training data, I will use the mean CRPS\n",
    "    mean_crps[ii] = np.mean(crps)"
   ]
  },
  {
   "cell_type": "code",
   "execution_count": 7,
   "metadata": {},
   "outputs": [
    {
     "name": "stdout",
     "output_type": "stream",
     "text": [
      "[1.62424644 1.56566162 1.58006537 1.57401996 1.60138528 1.6147223\n",
      " 1.6313323 ]\n"
     ]
    }
   ],
   "source": [
    "print(mean_crps)"
   ]
  },
  {
   "cell_type": "code",
   "execution_count": 15,
   "metadata": {},
   "outputs": [
    {
     "data": {
      "text/plain": [
       "Text(0, 0.5, 'Average CRPS')"
      ]
     },
     "execution_count": 15,
     "metadata": {},
     "output_type": "execute_result"
    },
    {
     "data": {
      "image/png": "[encoded data removed]",
      "text/plain": [
       "<Figure size 432x288 with 1 Axes>"
      ]
     },
     "metadata": {
      "needs_background": "light"
     },
     "output_type": "display_data"
    }
   ],
   "source": [
    "plt.plot(range(1,8), mean_crps, marker='^')\n",
    "plt.xlabel('Number of training simulations')\n",
    "plt.ylabel('Average CRPS')\n",
    "plt.show()"
   ]
  },
  {
   "cell_type": "code",
   "execution_count": null,
   "metadata": {},
   "outputs": [],
   "source": []
  }
 ],
 "metadata": {
  "interpreter": {
   "hash": "5f1a24420675fbd58e48d9c16e9359043b05bcbf462795b2f3d13b630f1d772b"
  },
  "kernelspec": {
   "display_name": "Python 3.8.12 64-bit ('enspp': conda)",
   "language": "python",
   "name": "python3"
  },
  "language_info": {
   "codemirror_mode": {
    "name": "ipython",
    "version": 3
   },
   "file_extension": ".py",
   "mimetype": "text/x-python",
   "name": "python",
   "nbconvert_exporter": "python",
   "pygments_lexer": "ipython3",
   "version": "3.8.12"
  },
  "orig_nbformat": 4
 },
 "nbformat": 4,
 "nbformat_minor": 2
}
