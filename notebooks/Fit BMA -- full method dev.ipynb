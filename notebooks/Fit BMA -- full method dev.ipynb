{
 "cells": [
  {
   "cell_type": "code",
   "execution_count": 1,
   "metadata": {},
   "outputs": [],
   "source": [
    "import enspp.bma as bma\n",
    "import numpy as np\n",
    "import pandas as pd\n",
    "from wrfpywind import data_preprocess as pp\n",
    "import xarray as xr"
   ]
  },
  {
   "cell_type": "code",
   "execution_count": 2,
   "metadata": {},
   "outputs": [],
   "source": [
    "# Path to data\n",
    "datadir = '../data/'"
   ]
  },
  {
   "cell_type": "markdown",
   "metadata": {},
   "source": [
    "In this data directory, there should be a list of data files for each initialization time. For example\n",
    "- ensds_20191201-05.nc\n",
    "- ensds_20191202-06.nc\n",
    "- ensds_20191203-07.nc\n",
    "- etc. \n"
   ]
  },
  {
   "cell_type": "markdown",
   "metadata": {},
   "source": [
    "I think I will use 12/9 as the test case for the AGU as that will give me 26 total days of testing data. However, for now, I'm going to use 12/8 as that's the last that I've finished processing so far."
   ]
  },
  {
   "cell_type": "code",
   "execution_count": 3,
   "metadata": {},
   "outputs": [],
   "source": [
    "# Specify the forecast initialization time\n",
    "t_init = '2019-12-08'\n",
    "t_init = pd.to_datetime(t_init)"
   ]
  },
  {
   "cell_type": "code",
   "execution_count": 4,
   "metadata": {},
   "outputs": [],
   "source": [
    "# Decide how many days of data you would like to use\n",
    "n_days = 7"
   ]
  },
  {
   "cell_type": "code",
   "execution_count": 5,
   "metadata": {},
   "outputs": [],
   "source": [
    "# Find the first training day\n",
    "d1_training = t_init - pd.DateOffset(days=n_days)"
   ]
  },
  {
   "cell_type": "code",
   "execution_count": 6,
   "metadata": {},
   "outputs": [],
   "source": [
    "# Specify the start dates  \n",
    "start_dates = pd.date_range(d1_training, periods=n_days)\n",
    "\n",
    "# Specify the end dates by specifying how long these simlulations should last\n",
    "end_dates = start_dates + pd.DateOffset(days=4)"
   ]
  },
  {
   "cell_type": "code",
   "execution_count": 7,
   "metadata": {},
   "outputs": [],
   "source": [
    "# Read in the observational data\n",
    "obs = pp.fmt_buoy_wspd(\n",
    "                       data_path='/share/mzhang/jas983/wrf_data/oshwind/wrfpywind/wrfpywind/data/nyserda_buoy/', \n",
    "                       south_dates_str='20190904_20210207', north_dates_str='20190812_20210207', \n",
    "                       heights=[20, 40, 60, 80, 100, 120, 140, 160, 180, 200],\n",
    "                       start_date='12-01-2019', end_date='12-31-2019')"
   ]
  },
  {
   "cell_type": "markdown",
   "metadata": {},
   "source": [
    "I will refer to the current day as day `D`. I retrain the BMA predictive parameters every new initialization time (i.e., every day), and fit BMA predictive distributions using the same fit for each lead time in a given forecast."
   ]
  },
  {
   "cell_type": "code",
   "execution_count": 8,
   "metadata": {},
   "outputs": [],
   "source": [
    "for ii in range(0,len(start_dates)):\n",
    "    # Open the xarray Dataset contianing wind speed data for the entire domain \n",
    "    # note that you must use a `Dataset` object for the `extract_buoy_da` function to work.\n",
    "    ensds = xr.open_dataset(f\"{datadir}ensds_{start_dates[ii].strftime('%Y%m%d')}-{end_dates[ii].strftime('%d')}.nc\")\n",
    "\n",
    "    # Get data only at the buoy locations\n",
    "    ensda = pp.extract_buoy_da(ensds, varname='wspd_wrf', locations=['south', 'north'])\n",
    "\n",
    "    # Combine ensemble data and training data into a pd.DataFrame in the correct format\n",
    "    train_data_new = bma.fmt_training_data(ensda, obs)\n",
    "\n",
    "    if ii == 0:\n",
    "        # Create the train_data DataFrame\n",
    "        train_data = train_data_new\n",
    "    else:\n",
    "        # Concat the new data into the same training DataFrame \n",
    "        train_data = pd.concat([train_data, train_data_new], axis=0)"
   ]
  },
  {
   "cell_type": "code",
   "execution_count": 9,
   "metadata": {},
   "outputs": [],
   "source": [
    "# Finally remove any data from after the WRF initialization time\n",
    "train_data = train_data[train_data['Time'] < t_init]"
   ]
  },
  {
   "cell_type": "code",
   "execution_count": 10,
   "metadata": {},
   "outputs": [],
   "source": [
    "# And reset the index\n",
    "train_data = train_data.reset_index(drop=True)"
   ]
  },
  {
   "cell_type": "code",
   "execution_count": 11,
   "metadata": {},
   "outputs": [],
   "source": [
    "# Fit the BMA parameters\n",
    "fit = bma.get_bma_fit(train_data)"
   ]
  },
  {
   "cell_type": "markdown",
   "metadata": {},
   "source": [
    "Now, I will format the test data -- i.e., the simulation starting on `t_init`"
   ]
  },
  {
   "cell_type": "code",
   "execution_count": 12,
   "metadata": {},
   "outputs": [],
   "source": [
    "# Read in and format the test data\n",
    "t_end = t_init + pd.DateOffset(days=4)\n",
    "\n",
    "# Open the xarray Dataset contianing wind speed data for the entire domain \n",
    "# note that you must use a `Dataset` object for the `extract_buoy_da` function to work.\n",
    "ensds = xr.open_dataset(f\"{datadir}ensds_{t_init.strftime('%Y%m%d')}-{t_end.strftime('%d')}.nc\")\n",
    "\n",
    "# Get data only at the buoy locations\n",
    "ensda = pp.extract_buoy_da(ensds, varname='wspd_wrf', locations=['south', 'north'])\n",
    "\n",
    "# Combine ensemble data and training data into a pd.DataFrame in the correct format\n",
    "test_data = bma.fmt_test_data(ensda, obs)"
   ]
  },
  {
   "cell_type": "code",
   "execution_count": 13,
   "metadata": {},
   "outputs": [
    {
     "data": {
      "text/plain": [
       "1.6275686899042738"
      ]
     },
     "execution_count": 13,
     "metadata": {},
     "output_type": "execute_result"
    }
   ],
   "source": [
    "# Calculate the CRPS\n",
    "crps = bma.get_crps(fit, test_data, n_ens_members=5, gamma_bma=None)\n",
    "# To determine the optimal amount of training data, I will use the mean CRPS\n",
    "np.mean(crps)"
   ]
  },
  {
   "cell_type": "code",
   "execution_count": null,
   "metadata": {},
   "outputs": [],
   "source": []
  }
 ],
 "metadata": {
  "interpreter": {
   "hash": "9ee0dae50bd9f3a3d4e203a464a394e8d1338892ff6a75687d9348fc4b011672"
  },
  "kernelspec": {
   "display_name": "Python 3.8.12 64-bit ('enspp': conda)",
   "language": "python",
   "name": "python3"
  },
  "language_info": {
   "codemirror_mode": {
    "name": "ipython",
    "version": 3
   },
   "file_extension": ".py",
   "mimetype": "text/x-python",
   "name": "python",
   "nbconvert_exporter": "python",
   "pygments_lexer": "ipython3",
   "version": "3.8.12"
  },
  "orig_nbformat": 4
 },
 "nbformat": 4,
 "nbformat_minor": 2
}
