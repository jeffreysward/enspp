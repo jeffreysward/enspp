{
 "cells": [
  {
   "cell_type": "code",
   "execution_count": 15,
   "metadata": {},
   "outputs": [],
   "source": [
    "import enspp.bma as bma\n",
    "import pandas as pd\n",
    "from wrfpywind import data_preprocess as pp\n",
    "import xarray as xr"
   ]
  },
  {
   "cell_type": "code",
   "execution_count": 3,
   "metadata": {},
   "outputs": [],
   "source": [
    "# Path to data\n",
    "datadir = '../data/'"
   ]
  },
  {
   "cell_type": "markdown",
   "metadata": {},
   "source": [
    "In this data directory, there should be a list of data files for each initialization time. For example\n",
    "- ensds_20191201-05.nc\n",
    "- ensds_20191202-06.nc\n",
    "- ensds_20191203-07.nc\n",
    "- etc. \n"
   ]
  },
  {
   "cell_type": "markdown",
   "metadata": {},
   "source": [
    "I think I will use 12/9 as the test case for the AGU as that will give me 26 total days of testing data. However, for now, I'm going to use 12/8 as that's the last that I've finished processing so far."
   ]
  },
  {
   "cell_type": "code",
   "execution_count": 4,
   "metadata": {},
   "outputs": [],
   "source": [
    "# Specify the forecast initialization time\n",
    "t_init = '2019-12-08'\n",
    "t_init = pd.to_datetime(t_init)"
   ]
  },
  {
   "cell_type": "code",
   "execution_count": 5,
   "metadata": {},
   "outputs": [],
   "source": [
    "# Decide how many days of data you would like to use\n",
    "n_days = 7"
   ]
  },
  {
   "cell_type": "code",
   "execution_count": 8,
   "metadata": {},
   "outputs": [],
   "source": [
    "# Find the first training day\n",
    "d1_training = t_init - pd.DateOffset(days=n_days)"
   ]
  },
  {
   "cell_type": "code",
   "execution_count": 9,
   "metadata": {},
   "outputs": [],
   "source": [
    "# Specify the start dates  \n",
    "start_dates = pd.date_range(d1_training, periods=n_days)\n",
    "\n",
    "# Specify the end dates by specifying how long these simlulations should last\n",
    "end_dates = start_dates + pd.DateOffset(days=4)"
   ]
  },
  {
   "cell_type": "code",
   "execution_count": 6,
   "metadata": {},
   "outputs": [],
   "source": [
    "# Read in the observational data\n",
    "obs = pp.fmt_buoy_wspd(\n",
    "                       data_path='/share/mzhang/jas983/wrf_data/oshwind/wrfpywind/wrfpywind/data/nyserda_buoy/', \n",
    "                       south_dates_str='20190904_20210207', north_dates_str='20190812_20210207', \n",
    "                       heights=[20, 40, 60, 80, 100, 120, 140, 160, 180, 200],\n",
    "                       start_date='12-01-2019', end_date='12-31-2019')"
   ]
  },
  {
   "cell_type": "markdown",
   "metadata": {},
   "source": [
    "I will refer to the current day as day `D`. I retrain the BMA predictive parameters every new initialization time (i.e., every day), and fit BMA predictive distributions using the same fit for each lead time in a given forecast."
   ]
  },
  {
   "cell_type": "code",
   "execution_count": 30,
   "metadata": {},
   "outputs": [],
   "source": [
    "# Open the xarray Dataset contianing wind speed data for the entire domain \n",
    "# note that you must use a `Dataset` object for the `extract_buoy_da` function to work.\n",
    "for ii in range(0,len(start_dates)):\n",
    "    ensds = xr.open_dataset(f\"{datadir}ensds_{start_dates[ii].strftime('%Y%m%d')}-{end_dates[ii].strftime('%d')}.nc\")\n",
    "\n",
    "    # Get data only at the buoy locations\n",
    "    ensda = pp.extract_buoy_da(ensds, varname='wspd_wrf', locations=['south', 'north'])\n",
    "\n",
    "    # Combine ensemble data and training data into a pd.DataFrame in the correct format\n",
    "    train_data_new = bma.fmt_training_data(ensda, obs)\n",
    "\n",
    "    if ii == 0:\n",
    "        # Create the train_data DataFrame\n",
    "        train_data = train_data_new\n",
    "    else:\n",
    "        # Concat the new data into the same training DataFrame \n",
    "        train_data = pd.concat([train_data, train_data_new], axis=0)"
   ]
  },
  {
   "cell_type": "code",
   "execution_count": null,
   "metadata": {},
   "outputs": [
    {
     "data": {
      "text/html": [
       "<div>\n",
       "<style scoped>\n",
       "    .dataframe tbody tr th:only-of-type {\n",
       "        vertical-align: middle;\n",
       "    }\n",
       "\n",
       "    .dataframe tbody tr th {\n",
       "        vertical-align: top;\n",
       "    }\n",
       "\n",
       "    .dataframe thead th {\n",
       "        text-align: right;\n",
       "    }\n",
       "</style>\n",
       "<table border=\"1\" class=\"dataframe\">\n",
       "  <thead>\n",
       "    <tr style=\"text-align: right;\">\n",
       "      <th>model</th>\n",
       "      <th>Time</th>\n",
       "      <th>Obs</th>\n",
       "      <th>Lee 2017</th>\n",
       "      <th>Draxl 2014a</th>\n",
       "      <th>Draxl 2014b</th>\n",
       "      <th>Veron 2018</th>\n",
       "      <th>Optis 2021</th>\n",
       "    </tr>\n",
       "  </thead>\n",
       "  <tbody>\n",
       "    <tr>\n",
       "      <th>0</th>\n",
       "      <td>2019-12-01 00:00:00</td>\n",
       "      <td>7.6415</td>\n",
       "      <td>2.851422</td>\n",
       "      <td>2.851422</td>\n",
       "      <td>2.851422</td>\n",
       "      <td>2.851422</td>\n",
       "      <td>2.851422</td>\n",
       "    </tr>\n",
       "    <tr>\n",
       "      <th>1</th>\n",
       "      <td>2019-12-01 00:10:00</td>\n",
       "      <td>7.7717</td>\n",
       "      <td>2.849505</td>\n",
       "      <td>2.772827</td>\n",
       "      <td>2.841808</td>\n",
       "      <td>2.836270</td>\n",
       "      <td>2.849560</td>\n",
       "    </tr>\n",
       "    <tr>\n",
       "      <th>2</th>\n",
       "      <td>2019-12-01 00:20:00</td>\n",
       "      <td>8.2606</td>\n",
       "      <td>3.025170</td>\n",
       "      <td>2.926286</td>\n",
       "      <td>3.034888</td>\n",
       "      <td>3.039857</td>\n",
       "      <td>3.026566</td>\n",
       "    </tr>\n",
       "    <tr>\n",
       "      <th>3</th>\n",
       "      <td>2019-12-01 00:30:00</td>\n",
       "      <td>8.1559</td>\n",
       "      <td>3.404312</td>\n",
       "      <td>3.311843</td>\n",
       "      <td>3.427143</td>\n",
       "      <td>3.420393</td>\n",
       "      <td>3.398015</td>\n",
       "    </tr>\n",
       "    <tr>\n",
       "      <th>4</th>\n",
       "      <td>2019-12-01 00:40:00</td>\n",
       "      <td>7.1789</td>\n",
       "      <td>3.571643</td>\n",
       "      <td>3.531106</td>\n",
       "      <td>3.631666</td>\n",
       "      <td>3.636799</td>\n",
       "      <td>3.570106</td>\n",
       "    </tr>\n",
       "    <tr>\n",
       "      <th>...</th>\n",
       "      <td>...</td>\n",
       "      <td>...</td>\n",
       "      <td>...</td>\n",
       "      <td>...</td>\n",
       "      <td>...</td>\n",
       "      <td>...</td>\n",
       "      <td>...</td>\n",
       "    </tr>\n",
       "    <tr>\n",
       "      <th>1136</th>\n",
       "      <td>2019-12-04 23:20:00</td>\n",
       "      <td>9.6691</td>\n",
       "      <td>6.322960</td>\n",
       "      <td>8.222566</td>\n",
       "      <td>7.480564</td>\n",
       "      <td>8.172853</td>\n",
       "      <td>5.446856</td>\n",
       "    </tr>\n",
       "    <tr>\n",
       "      <th>1137</th>\n",
       "      <td>2019-12-04 23:30:00</td>\n",
       "      <td>10.0402</td>\n",
       "      <td>6.552176</td>\n",
       "      <td>7.883459</td>\n",
       "      <td>7.452651</td>\n",
       "      <td>8.210824</td>\n",
       "      <td>5.296691</td>\n",
       "    </tr>\n",
       "    <tr>\n",
       "      <th>1138</th>\n",
       "      <td>2019-12-04 23:40:00</td>\n",
       "      <td>11.0066</td>\n",
       "      <td>6.551813</td>\n",
       "      <td>8.035707</td>\n",
       "      <td>7.284772</td>\n",
       "      <td>7.723154</td>\n",
       "      <td>5.178216</td>\n",
       "    </tr>\n",
       "    <tr>\n",
       "      <th>1139</th>\n",
       "      <td>2019-12-04 23:50:00</td>\n",
       "      <td>10.2970</td>\n",
       "      <td>6.299360</td>\n",
       "      <td>8.077747</td>\n",
       "      <td>7.004590</td>\n",
       "      <td>7.098296</td>\n",
       "      <td>5.105103</td>\n",
       "    </tr>\n",
       "    <tr>\n",
       "      <th>1140</th>\n",
       "      <td>2019-12-05 00:00:00</td>\n",
       "      <td>10.1992</td>\n",
       "      <td>6.147545</td>\n",
       "      <td>7.793526</td>\n",
       "      <td>6.711493</td>\n",
       "      <td>6.483945</td>\n",
       "      <td>5.036476</td>\n",
       "    </tr>\n",
       "  </tbody>\n",
       "</table>\n",
       "<p>1141 rows × 7 columns</p>\n",
       "</div>"
      ],
      "text/plain": [
       "model                Time      Obs  Lee 2017  Draxl 2014a  Draxl 2014b  \\\n",
       "0     2019-12-01 00:00:00   7.6415  2.851422     2.851422     2.851422   \n",
       "1     2019-12-01 00:10:00   7.7717  2.849505     2.772827     2.841808   \n",
       "2     2019-12-01 00:20:00   8.2606  3.025170     2.926286     3.034888   \n",
       "3     2019-12-01 00:30:00   8.1559  3.404312     3.311843     3.427143   \n",
       "4     2019-12-01 00:40:00   7.1789  3.571643     3.531106     3.631666   \n",
       "...                   ...      ...       ...          ...          ...   \n",
       "1136  2019-12-04 23:20:00   9.6691  6.322960     8.222566     7.480564   \n",
       "1137  2019-12-04 23:30:00  10.0402  6.552176     7.883459     7.452651   \n",
       "1138  2019-12-04 23:40:00  11.0066  6.551813     8.035707     7.284772   \n",
       "1139  2019-12-04 23:50:00  10.2970  6.299360     8.077747     7.004590   \n",
       "1140  2019-12-05 00:00:00  10.1992  6.147545     7.793526     6.711493   \n",
       "\n",
       "model  Veron 2018  Optis 2021  \n",
       "0        2.851422    2.851422  \n",
       "1        2.836270    2.849560  \n",
       "2        3.039857    3.026566  \n",
       "3        3.420393    3.398015  \n",
       "4        3.636799    3.570106  \n",
       "...           ...         ...  \n",
       "1136     8.172853    5.446856  \n",
       "1137     8.210824    5.296691  \n",
       "1138     7.723154    5.178216  \n",
       "1139     7.098296    5.105103  \n",
       "1140     6.483945    5.036476  \n",
       "\n",
       "[1141 rows x 7 columns]"
      ]
     },
     "execution_count": 18,
     "metadata": {},
     "output_type": "execute_result"
    }
   ],
   "source": [
    "# Finally remove any data from after the WRF initialization time\n",
    "train_data = train_data[train_data['Time'] < t_init]\n"
   ]
  },
  {
   "cell_type": "code",
   "execution_count": null,
   "metadata": {},
   "outputs": [],
   "source": []
  },
  {
   "cell_type": "code",
   "execution_count": null,
   "metadata": {},
   "outputs": [],
   "source": []
  },
  {
   "cell_type": "code",
   "execution_count": null,
   "metadata": {},
   "outputs": [],
   "source": []
  }
 ],
 "metadata": {
  "interpreter": {
   "hash": "9ee0dae50bd9f3a3d4e203a464a394e8d1338892ff6a75687d9348fc4b011672"
  },
  "kernelspec": {
   "display_name": "Python 3.8.12 64-bit ('enspp': conda)",
   "language": "python",
   "name": "python3"
  },
  "language_info": {
   "codemirror_mode": {
    "name": "ipython",
    "version": 3
   },
   "file_extension": ".py",
   "mimetype": "text/x-python",
   "name": "python",
   "nbconvert_exporter": "python",
   "pygments_lexer": "ipython3",
   "version": "3.8.12"
  },
  "orig_nbformat": 4
 },
 "nbformat": 4,
 "nbformat_minor": 2
}
