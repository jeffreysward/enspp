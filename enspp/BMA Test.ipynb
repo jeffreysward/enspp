{
 "cells": [
  {
   "cell_type": "code",
   "execution_count": 9,
   "metadata": {},
   "outputs": [],
   "source": [
    "from wrfpywind import data_preprocess as pp\n",
    "import warnings\n",
    "warnings.filterwarnings('ignore')\n",
    "\n",
    "import enspp.bma as bma"
   ]
  },
  {
   "cell_type": "code",
   "execution_count": 2,
   "metadata": {},
   "outputs": [],
   "source": [
    "wrfens = pp.fmt_wrfens_wspd(wrfout_headdir='../data/', \n",
    "                    wrfout_dirs=['28mp4lw4sw2lsm5pbl1cu/',  # Lee 2017\n",
    "                                 '8mp1lw1sw2lsm1pbl1cu/',  # Draxl 2014a\n",
    "                                 '8mp1lw1sw2lsm2pbl1cu/',  # Draxl 2014b\n",
    "                                 '8mp1lw1sw2lsm2pbl3cu/',  # Vernon 2018\n",
    "                                 '8mp4lw2sw2lsm5pbl3cu/',  # Optis 2021\n",
    "                                 ],\n",
    "                    wrfout_files=['ow_buoy_wrfout_d03_2020-02-05-2020-02-11',\n",
    "                                #   'ow_buoy_wrfout_d03_2020-06-03-2020-06-09',\n",
    "                                #   'ow_buoy_wrfout_d03_2020-07-01-2020-07-07',\n",
    "                                #   'ow_buoy_wrfout_d03_2020-11-26-2020-12-02',\n",
    "                                  ],\n",
    "                    model_names=['Lee 2017', 'Draxl 2014a', 'Draxl 2014b', 'Veron 2018', 'Optis 2021'],\n",
    "                    heights=[20, 40, 60, 80, 100, 120, 140, 160, 180, 200],\n",
    "                    locations=['south', 'north']\n",
    "                    )"
   ]
  },
  {
   "cell_type": "code",
   "execution_count": 3,
   "metadata": {},
   "outputs": [],
   "source": [
    "obs = pp.fmt_buoy_wspd(\n",
    "                    #    data_path='/Users/jeffreysward/Box Sync/01_Research/01_Renewable_Analysis/WRF_Solar_and_Wind/oshwind/wrfpywind/wrfpywind/data/nyserda_buoy/',\n",
    "                       data_path='/share/mzhang/jas983/wrf_data/oshwind/wrfpywind/wrfpywind/data/nyserda_buoy/', \n",
    "                       south_dates_str='20190904_20210207', north_dates_str='20190812_20210207', \n",
    "                       heights=[20, 40, 60, 80, 100, 120, 140, 160, 180, 200],\n",
    "                       start_date='01-01-2020', end_date='12-31-2020')"
   ]
  },
  {
   "cell_type": "code",
   "execution_count": 11,
   "metadata": {},
   "outputs": [],
   "source": [
    "train_da = wrfens.sel(Time=slice('2020-02-05', '2020-02-10'))"
   ]
  },
  {
   "cell_type": "code",
   "execution_count": 13,
   "metadata": {},
   "outputs": [],
   "source": [
    "train_df = bma.fmt_training_data(train_da, obs)"
   ]
  },
  {
   "cell_type": "code",
   "execution_count": 14,
   "metadata": {},
   "outputs": [
    {
     "name": "stdout",
     "output_type": "stream",
     "text": [
      "$biasCoefs\n",
      "[1] 1.5681511 0.8912485\n",
      "\n",
      "$varCoefs\n",
      "[1] 2.060378e+00 5.926980e-15\n",
      "\n",
      "$weights\n",
      "   Lee 2017 Draxl 2014a Draxl 2014b  Veron 2018  Optis 2021 \n",
      " 0.34480300  0.19491841  0.21004349  0.05466452  0.19557058 \n",
      "\n",
      "$nIter\n",
      "[1] 208\n",
      "\n",
      "$loglikelihood\n",
      "[1] -3449.187\n",
      "\n",
      "$power\n",
      "[1] 1\n",
      "\n",
      "$startupSpeed\n",
      "[1] 0\n",
      "\n",
      "$call\n",
      "fitBMAgamma(ensembleData = train_ensd, control = controlBMAgamma(startupSpeed = 0))\n",
      "\n",
      "attr(,\"class\")\n",
      "[1] \"fitBMAgamma\" \"fitBMA\"     \n",
      "\n"
     ]
    }
   ],
   "source": [
    "fit = bma.get_bma_fit(train_df)\n",
    "print(fit)"
   ]
  },
  {
   "cell_type": "code",
   "execution_count": null,
   "metadata": {},
   "outputs": [],
   "source": []
  }
 ],
 "metadata": {
  "interpreter": {
   "hash": "5f1a24420675fbd58e48d9c16e9359043b05bcbf462795b2f3d13b630f1d772b"
  },
  "kernelspec": {
   "display_name": "Python 3.8.12 64-bit ('enspp': conda)",
   "language": "python",
   "name": "python3"
  },
  "language_info": {
   "codemirror_mode": {
    "name": "ipython",
    "version": 3
   },
   "file_extension": ".py",
   "mimetype": "text/x-python",
   "name": "python",
   "nbconvert_exporter": "python",
   "pygments_lexer": "ipython3",
   "version": "3.8.12"
  },
  "orig_nbformat": 4
 },
 "nbformat": 4,
 "nbformat_minor": 2
}
