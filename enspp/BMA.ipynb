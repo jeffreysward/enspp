{
 "cells": [
  {
   "cell_type": "code",
   "execution_count": 1,
   "metadata": {},
   "outputs": [],
   "source": [
    "import enspp.vis as vis\n",
    "import numpy as np\n",
    "import pandas as pd\n",
    "import rpy2.robjects as robjects\n",
    "from rpy2.robjects.packages import importr\n",
    "from rpy2.robjects import pandas2ri\n",
    "from rpy2.robjects.packages import STAP\n",
    "import scipy.stats as stats\n",
    "import scipy.optimize as opt\n",
    "import seaborn as sns\n",
    "import statsmodels.api as sm\n",
    "import stoc_solar\n",
    "import matplotlib.pyplot as plt\n",
    "import xarray as xr\n",
    "from wrfpywind import data_preprocess as pp"
   ]
  },
  {
   "cell_type": "code",
   "execution_count": 2,
   "metadata": {},
   "outputs": [],
   "source": [
    "# Activate pandas2ri\n",
    "pandas2ri.activate()"
   ]
  },
  {
   "cell_type": "code",
   "execution_count": 3,
   "metadata": {},
   "outputs": [],
   "source": [
    "# Read the file with the R code\n",
    "with open('../R/gamma_bma.r', 'r') as f:\n",
    "    string = f.read()\n",
    "\n",
    "# Parse the package using STAP\n",
    "gamma_bma = STAP(string, \"gamma_bma\")"
   ]
  },
  {
   "cell_type": "markdown",
   "metadata": {},
   "source": [
    "## Read in the ensemble and observational data"
   ]
  },
  {
   "cell_type": "code",
   "execution_count": 4,
   "metadata": {},
   "outputs": [
    {
     "name": "stderr",
     "output_type": "stream",
     "text": [
      "/Users/jeffreysward/opt/anaconda3/envs/enspp/lib/python3.8/site-packages/xarray/conventions.py:512: SerializationWarning: variable 'pressure' has multiple fill values {1e+20, 1e+20}, decoding all values to NaN.\n",
      "  new_vars[k] = decode_cf_variable(\n",
      "/Users/jeffreysward/opt/anaconda3/envs/enspp/lib/python3.8/site-packages/xarray/conventions.py:512: SerializationWarning: variable 'pressure' has multiple fill values {1e+20, 1e+20}, decoding all values to NaN.\n",
      "  new_vars[k] = decode_cf_variable(\n",
      "/Users/jeffreysward/opt/anaconda3/envs/enspp/lib/python3.8/site-packages/xarray/conventions.py:512: SerializationWarning: variable 'pressure' has multiple fill values {1e+20, 1e+20}, decoding all values to NaN.\n",
      "  new_vars[k] = decode_cf_variable(\n",
      "/Users/jeffreysward/opt/anaconda3/envs/enspp/lib/python3.8/site-packages/xarray/conventions.py:512: SerializationWarning: variable 'pressure' has multiple fill values {1e+20, 1e+20}, decoding all values to NaN.\n",
      "  new_vars[k] = decode_cf_variable(\n",
      "/Users/jeffreysward/opt/anaconda3/envs/enspp/lib/python3.8/site-packages/xarray/conventions.py:512: SerializationWarning: variable 'pressure' has multiple fill values {1e+20, 1e+20}, decoding all values to NaN.\n",
      "  new_vars[k] = decode_cf_variable(\n"
     ]
    }
   ],
   "source": [
    "wrfens = pp.fmt_wrfens_wspd(wrfout_headdir='../data/', \n",
    "                    wrfout_dirs=['28mp4lw4sw2lsm5pbl1cu/',  # Lee 2017\n",
    "                                 '8mp1lw1sw2lsm1pbl1cu/',  # Draxl 2014a\n",
    "                                 '8mp1lw1sw2lsm2pbl1cu/',  # Draxl 2014b\n",
    "                                 '8mp1lw1sw2lsm2pbl3cu/',  # Vernon 2018\n",
    "                                 '8mp4lw2sw2lsm5pbl3cu/',  # Optis 2021\n",
    "                                 ],\n",
    "                    wrfout_files=['ow_buoy_wrfout_d03_2020-02-05-2020-02-11',\n",
    "                                #   'ow_buoy_wrfout_d03_2020-06-03-2020-06-09',\n",
    "                                #   'ow_buoy_wrfout_d03_2020-07-01-2020-07-07',\n",
    "                                #   'ow_buoy_wrfout_d03_2020-11-26-2020-12-02',\n",
    "                                  ],\n",
    "                    model_names=['Lee 2017', 'Draxl 2014a', 'Draxl 2014b', 'Veron 2018', 'Optis 2021'],\n",
    "                    heights=[20, 40, 60, 80, 100, 120, 140, 160, 180, 200],\n",
    "                    locations=['south', 'north']\n",
    "                    )"
   ]
  },
  {
   "cell_type": "code",
   "execution_count": 5,
   "metadata": {},
   "outputs": [],
   "source": [
    "obs = pp.fmt_buoy_wspd(\n",
    "                       data_path='/Users/jeffreysward/Box Sync/01_Research/01_Renewable_Analysis/WRF_Solar_and_Wind/oshwind/wrfpywind/wrfpywind/data/nyserda_buoy/',\n",
    "                     #   data_path='/share/mzhang/jas983/wrf_data/oshwind/wrfpywind/wrfpywind/data/nyserda_buoy/', \n",
    "                       south_dates_str='20190904_20210207', north_dates_str='20190812_20210207', \n",
    "                       heights=[20, 40, 60, 80, 100, 120, 140, 160, 180, 200],\n",
    "                       start_date='01-01-2020', end_date='12-31-2020')"
   ]
  },
  {
   "cell_type": "code",
   "execution_count": 17,
   "metadata": {},
   "outputs": [],
   "source": [
    "# Get data for only north buoy at 100m and format\n",
    "wrfens_n = wrfens.sel(location='north', height=100)\n",
    "wrfens_n = wrfens_n.T.to_pandas()\n",
    "obs_n = obs.sel(location='north', height=100)\n",
    "obs_n = obs_n.T.to_pandas()"
   ]
  },
  {
   "cell_type": "code",
   "execution_count": 18,
   "metadata": {},
   "outputs": [
    {
     "data": {
      "text/html": [
       "<div>\n",
       "<style scoped>\n",
       "    .dataframe tbody tr th:only-of-type {\n",
       "        vertical-align: middle;\n",
       "    }\n",
       "\n",
       "    .dataframe tbody tr th {\n",
       "        vertical-align: top;\n",
       "    }\n",
       "\n",
       "    .dataframe thead th {\n",
       "        text-align: right;\n",
       "    }\n",
       "</style>\n",
       "<table border=\"1\" class=\"dataframe\">\n",
       "  <thead>\n",
       "    <tr style=\"text-align: right;\">\n",
       "      <th>model</th>\n",
       "      <th>Time</th>\n",
       "      <th>Obs</th>\n",
       "      <th>Lee 2017</th>\n",
       "      <th>Draxl 2014a</th>\n",
       "      <th>Draxl 2014b</th>\n",
       "      <th>Veron 2018</th>\n",
       "      <th>Optis 2021</th>\n",
       "    </tr>\n",
       "  </thead>\n",
       "  <tbody>\n",
       "    <tr>\n",
       "      <th>0</th>\n",
       "      <td>2020-02-05 00:00:00</td>\n",
       "      <td>14.2556</td>\n",
       "      <td>12.764170</td>\n",
       "      <td>10.433875</td>\n",
       "      <td>11.339193</td>\n",
       "      <td>11.961639</td>\n",
       "      <td>13.301400</td>\n",
       "    </tr>\n",
       "    <tr>\n",
       "      <th>1</th>\n",
       "      <td>2020-02-05 00:10:00</td>\n",
       "      <td>14.7611</td>\n",
       "      <td>12.745060</td>\n",
       "      <td>10.433420</td>\n",
       "      <td>11.272497</td>\n",
       "      <td>11.955648</td>\n",
       "      <td>13.316387</td>\n",
       "    </tr>\n",
       "    <tr>\n",
       "      <th>2</th>\n",
       "      <td>2020-02-05 00:20:00</td>\n",
       "      <td>14.4694</td>\n",
       "      <td>12.712714</td>\n",
       "      <td>10.446456</td>\n",
       "      <td>11.138189</td>\n",
       "      <td>11.852893</td>\n",
       "      <td>13.370154</td>\n",
       "    </tr>\n",
       "    <tr>\n",
       "      <th>3</th>\n",
       "      <td>2020-02-05 00:30:00</td>\n",
       "      <td>14.1879</td>\n",
       "      <td>12.750162</td>\n",
       "      <td>10.528953</td>\n",
       "      <td>11.026620</td>\n",
       "      <td>11.748485</td>\n",
       "      <td>13.386228</td>\n",
       "    </tr>\n",
       "    <tr>\n",
       "      <th>4</th>\n",
       "      <td>2020-02-05 00:40:00</td>\n",
       "      <td>13.8947</td>\n",
       "      <td>12.827484</td>\n",
       "      <td>10.565650</td>\n",
       "      <td>10.871380</td>\n",
       "      <td>11.613228</td>\n",
       "      <td>13.371477</td>\n",
       "    </tr>\n",
       "  </tbody>\n",
       "</table>\n",
       "</div>"
      ],
      "text/plain": [
       "model                Time      Obs   Lee 2017  Draxl 2014a  Draxl 2014b  \\\n",
       "0     2020-02-05 00:00:00  14.2556  12.764170    10.433875    11.339193   \n",
       "1     2020-02-05 00:10:00  14.7611  12.745060    10.433420    11.272497   \n",
       "2     2020-02-05 00:20:00  14.4694  12.712714    10.446456    11.138189   \n",
       "3     2020-02-05 00:30:00  14.1879  12.750162    10.528953    11.026620   \n",
       "4     2020-02-05 00:40:00  13.8947  12.827484    10.565650    10.871380   \n",
       "\n",
       "model  Veron 2018  Optis 2021  \n",
       "0       11.961639   13.301400  \n",
       "1       11.955648   13.316387  \n",
       "2       11.852893   13.370154  \n",
       "3       11.748485   13.386228  \n",
       "4       11.613228   13.371477  "
      ]
     },
     "execution_count": 18,
     "metadata": {},
     "output_type": "execute_result"
    }
   ],
   "source": [
    "# Put the observations and the ensemble forecast into the same DataFrame (north buoy)\n",
    "data_n = pd.concat([obs_n['2020-02-05':'2020-02-11'], wrfens_n], axis=1)\n",
    "data_n = data_n.rename(columns={0: 'Obs'})\n",
    "data_n = data_n.dropna().reset_index()\n",
    "data_n.head()"
   ]
  },
  {
   "cell_type": "code",
   "execution_count": 9,
   "metadata": {},
   "outputs": [
    {
     "data": {
      "text/html": [
       "<div>\n",
       "<style scoped>\n",
       "    .dataframe tbody tr th:only-of-type {\n",
       "        vertical-align: middle;\n",
       "    }\n",
       "\n",
       "    .dataframe tbody tr th {\n",
       "        vertical-align: top;\n",
       "    }\n",
       "\n",
       "    .dataframe thead th {\n",
       "        text-align: right;\n",
       "    }\n",
       "</style>\n",
       "<table border=\"1\" class=\"dataframe\">\n",
       "  <thead>\n",
       "    <tr style=\"text-align: right;\">\n",
       "      <th>model</th>\n",
       "      <th>Time</th>\n",
       "      <th>Obs</th>\n",
       "      <th>Lee 2017</th>\n",
       "      <th>Draxl 2014a</th>\n",
       "      <th>Draxl 2014b</th>\n",
       "      <th>Veron 2018</th>\n",
       "      <th>Optis 2021</th>\n",
       "    </tr>\n",
       "  </thead>\n",
       "  <tbody>\n",
       "    <tr>\n",
       "      <th>0</th>\n",
       "      <td>2020-02-05 00:00:00</td>\n",
       "      <td>14.2556</td>\n",
       "      <td>12.764170</td>\n",
       "      <td>10.433875</td>\n",
       "      <td>11.339193</td>\n",
       "      <td>11.961639</td>\n",
       "      <td>13.301400</td>\n",
       "    </tr>\n",
       "    <tr>\n",
       "      <th>1</th>\n",
       "      <td>2020-02-05 00:10:00</td>\n",
       "      <td>14.7611</td>\n",
       "      <td>12.745060</td>\n",
       "      <td>10.433420</td>\n",
       "      <td>11.272497</td>\n",
       "      <td>11.955648</td>\n",
       "      <td>13.316387</td>\n",
       "    </tr>\n",
       "    <tr>\n",
       "      <th>2</th>\n",
       "      <td>2020-02-05 00:20:00</td>\n",
       "      <td>14.4694</td>\n",
       "      <td>12.712714</td>\n",
       "      <td>10.446456</td>\n",
       "      <td>11.138189</td>\n",
       "      <td>11.852893</td>\n",
       "      <td>13.370154</td>\n",
       "    </tr>\n",
       "    <tr>\n",
       "      <th>3</th>\n",
       "      <td>2020-02-05 00:30:00</td>\n",
       "      <td>14.1879</td>\n",
       "      <td>12.750162</td>\n",
       "      <td>10.528953</td>\n",
       "      <td>11.026620</td>\n",
       "      <td>11.748485</td>\n",
       "      <td>13.386228</td>\n",
       "    </tr>\n",
       "    <tr>\n",
       "      <th>4</th>\n",
       "      <td>2020-02-05 00:40:00</td>\n",
       "      <td>13.8947</td>\n",
       "      <td>12.827484</td>\n",
       "      <td>10.565650</td>\n",
       "      <td>10.871380</td>\n",
       "      <td>11.613228</td>\n",
       "      <td>13.371477</td>\n",
       "    </tr>\n",
       "  </tbody>\n",
       "</table>\n",
       "</div>"
      ],
      "text/plain": [
       "model                Time      Obs   Lee 2017  Draxl 2014a  Draxl 2014b  \\\n",
       "0     2020-02-05 00:00:00  14.2556  12.764170    10.433875    11.339193   \n",
       "1     2020-02-05 00:10:00  14.7611  12.745060    10.433420    11.272497   \n",
       "2     2020-02-05 00:20:00  14.4694  12.712714    10.446456    11.138189   \n",
       "3     2020-02-05 00:30:00  14.1879  12.750162    10.528953    11.026620   \n",
       "4     2020-02-05 00:40:00  13.8947  12.827484    10.565650    10.871380   \n",
       "\n",
       "model  Veron 2018  Optis 2021  \n",
       "0       11.961639   13.301400  \n",
       "1       11.955648   13.316387  \n",
       "2       11.852893   13.370154  \n",
       "3       11.748485   13.386228  \n",
       "4       11.613228   13.371477  "
      ]
     },
     "execution_count": 9,
     "metadata": {},
     "output_type": "execute_result"
    }
   ],
   "source": [
    "# Get data for only north buoy at 100m and format\n",
    "wrfens_n = wrfens.sel(location='north', height=100)\n",
    "obs_n = obs.sel(Time=slice(wrfens.Time[0], wrfens.Time[-1]), location='north', height=100)\n",
    "# Put the observations and the ensemble forecast into the same DataFrame (north buoy)\n",
    "data_n = xr.concat([obs_n, wrfens_n], 'model')\n",
    "data_n = data_n.T.to_pandas().dropna().reset_index()\n",
    "data_n.head()"
   ]
  },
  {
   "cell_type": "code",
   "execution_count": null,
   "metadata": {},
   "outputs": [],
   "source": [
    "# Get data for only south buoy at 100m and format\n",
    "wrfens_s = wrfens.sel(location='south', height=100)\n",
    "wrfens_s = wrfens_s.T.to_pandas()\n",
    "obs_s = obs.sel(location='south', height=100)\n",
    "obs_s = obs_s.to_pandas()"
   ]
  },
  {
   "cell_type": "code",
   "execution_count": null,
   "metadata": {},
   "outputs": [],
   "source": [
    "# Put the observations and the ensemble forecast into the same DataFrame (south buoy)\n",
    "data_s = pd.concat([obs_s['2020-02-05':'2020-02-11'], wrfens_s], axis=1)\n",
    "data_s = data_s.rename(columns={0: 'Obs'})\n",
    "data_s = data_s.dropna().reset_index()\n",
    "data_s.head()"
   ]
  },
  {
   "cell_type": "code",
   "execution_count": null,
   "metadata": {},
   "outputs": [],
   "source": [
    "# Combine the data from the two buoys into the same dataframe \n",
    "data = pd.concat([data_s, data_n], axis=0)"
   ]
  },
  {
   "cell_type": "markdown",
   "metadata": {},
   "source": [
    "## Fit a BMA model\n",
    "We will estimate the BMA parameters using the R `ensembleBMA` package with the help of the `rpy2` Python package\n",
    "\n",
    "Since the Sloughter 2010 paper use the gamma distribution, I think I'll just proceed with the Gamma distribution."
   ]
  },
  {
   "cell_type": "code",
   "execution_count": null,
   "metadata": {},
   "outputs": [],
   "source": [
    "# Split the data into training and testing sets\n",
    "train_data = data[data['Time'] < '2020-02-11'].reset_index(drop=True)\n",
    "test_data = data[data['Time'] >= '2020-02-11'].reset_index(drop=True)"
   ]
  },
  {
   "cell_type": "code",
   "execution_count": null,
   "metadata": {},
   "outputs": [],
   "source": [
    "# Fit the BMA model \n",
    "fit = gamma_bma.fit_bma(train_data, n_ens_members=5)\n",
    "print(fit)"
   ]
  },
  {
   "cell_type": "markdown",
   "metadata": {},
   "source": [
    "Note that typing `print(fit)` into the notbook allows you to view the BMA fit, but that simply typing `fit` will draw an uninteligable error for Jupyter"
   ]
  },
  {
   "cell_type": "code",
   "execution_count": null,
   "metadata": {},
   "outputs": [],
   "source": [
    "# Extract the quantiles for a set set of testing data. In this case, \n",
    "# we don't want to supply the full set of testing data as this includes both locations, \n",
    "# so we will first define a new set of testing data.\n",
    "test_n = data_n[data_n['Time'] >= '2020-02-11'].reset_index(drop=True)\n",
    "q = gamma_bma.quant_bma(fit, test_n, n_ens_members=5, quantiles=np.arange(0.01, 1, 0.01))"
   ]
  },
  {
   "cell_type": "code",
   "execution_count": null,
   "metadata": {},
   "outputs": [],
   "source": [
    "# Calculate the CRPS\n",
    "crps = gamma_bma.crps_bma(fit, test_data, n_ens_members = 5)"
   ]
  },
  {
   "cell_type": "code",
   "execution_count": null,
   "metadata": {},
   "outputs": [],
   "source": [
    "# To determine the optimal amount of training data, I will probably use the mean CRPS\n",
    "np.mean(crps)"
   ]
  },
  {
   "cell_type": "code",
   "execution_count": null,
   "metadata": {},
   "outputs": [],
   "source": [
    "# Visualize the forecast and observations using stoc_solar.fan\n",
    "stoc_solar.fan(fx=q.T, obs=test_n.Obs.values, p1=None, p2=None, t_issue='01/01/2018', fx_res='H', title=None, \n",
    "               percentile_vals=[ii + 1 for ii in range(0, 99)], fig_w=15,\n",
    "               ylab=True, show_fig=True)"
   ]
  },
  {
   "cell_type": "markdown",
   "metadata": {},
   "source": [
    "While it's nice that my `stoc_solar.fan` plot works okay here, I think I'm going to duplicate this function for `enspp` and customize it for wind speed -- hopefully this version will be more portable.  \n",
    "Also, this will require some formatting of the `fx` and `obs` input variables."
   ]
  },
  {
   "cell_type": "code",
   "execution_count": null,
   "metadata": {},
   "outputs": [],
   "source": [
    "# Format the forecast and obs variables into xarray DataSets. Note the obnoxious bug, \n",
    "# which means that I had to write test_n.Time[0:1] rather than simply test_n.Time\n",
    "fx = xr.DataArray(\n",
    "    data=[q],\n",
    "    dims=[\n",
    "        \"Start_time\", \n",
    "        \"Step_index\", \n",
    "        \"Percentile\"\n",
    "        ],\n",
    "    coords=dict(\n",
    "        Start_time=test_n.Time[0:1],\n",
    "        Step_index=test_n.index,\n",
    "        Percentile=np.arange(1, 100, 1),\n",
    "    ),\n",
    "    attrs=dict(\n",
    "        description=\"Wind Speed 100m\",\n",
    "        units=\"m s-1\",\n",
    "    ),\n",
    ")"
   ]
  },
  {
   "cell_type": "markdown",
   "metadata": {},
   "source": [
    "For the observations, I can simply use the `obs` `xarray.DataSet` that I read in using `pp.fmt_buoy_wspd`"
   ]
  },
  {
   "cell_type": "code",
   "execution_count": null,
   "metadata": {},
   "outputs": [],
   "source": [
    "obs_n_100 = obs.sel(location='north', height=100)"
   ]
  },
  {
   "cell_type": "code",
   "execution_count": null,
   "metadata": {},
   "outputs": [],
   "source": [
    "vis.fan(fx=fx, obs=obs_n_100, p1=None, p2=None, t_issue='02/11/2020', n_days=1, fx_res='10T', title=None, \n",
    "    percentile_vals=None, fig_w=15, ylab=True, ylab_txt='Wind Speed (ms$^{-1}$)', \n",
    "    show_fig=True, save_fig=False, fig_path='../data/plots/fan_plot.png')"
   ]
  },
  {
   "cell_type": "markdown",
   "metadata": {},
   "source": [
    "## Create a Map of a Specific Quantile "
   ]
  },
  {
   "cell_type": "code",
   "execution_count": null,
   "metadata": {},
   "outputs": [],
   "source": [
    "# Open the DataArray contianing wind speed data for the entire domain\n",
    "ensda = xr.open_dataarray('/share/mzhang/jas983/wrf_data/oshwind/wrfpywind/wrfpywind/data/ensds_20200204-12.nc')"
   ]
  },
  {
   "cell_type": "code",
   "execution_count": null,
   "metadata": {},
   "outputs": [],
   "source": [
    "# Select only data for the test day (2020-02-11) at 100m\n",
    "ensda = ensda.sel(Time=slice('2020-02-11', ensda.Time[-2].values), height=100)"
   ]
  },
  {
   "cell_type": "code",
   "execution_count": null,
   "metadata": {},
   "outputs": [],
   "source": [
    "ensda"
   ]
  },
  {
   "cell_type": "code",
   "execution_count": null,
   "metadata": {},
   "outputs": [],
   "source": [
    "# Select data for only one location\n",
    "ensda_slice = ensda.isel(south_north=0, west_east=0)\n",
    "ensdf_slice = ensda_slice.T.to_pandas()\n",
    "ensdf_slice.tail()"
   ]
  },
  {
   "cell_type": "code",
   "execution_count": null,
   "metadata": {},
   "outputs": [],
   "source": [
    "# We need an observation as a placeholder (it won't actually be used), so we'll use the one from the north buoy\n",
    "data_t = pd.concat([obs_n['2020-02-11'], ensdf_slice], axis=1)\n",
    "data_t = data_t.rename(columns={0: 'Obs'})\n",
    "data_t = data_t.reset_index()\n",
    "data_t.tail()"
   ]
  },
  {
   "cell_type": "code",
   "execution_count": null,
   "metadata": {},
   "outputs": [],
   "source": [
    "# Extract the quantiles using the BMA test fit\n",
    "q = gamma_bma.quant_bma(fit, data_t, n_ens_members=5, quantiles=np.arange(0.01, 1, 0.01))"
   ]
  },
  {
   "cell_type": "code",
   "execution_count": null,
   "metadata": {},
   "outputs": [],
   "source": [
    "# Format the quantiles into a DataArray\n",
    "fx = fxda(q, ensda_slice)"
   ]
  },
  {
   "cell_type": "code",
   "execution_count": null,
   "metadata": {},
   "outputs": [],
   "source": [
    "def fxda(quantiles, ensda):    \n",
    "    # Format the forecast and obs variables into xarray DataSets. \n",
    "    fx = xr.DataArray(\n",
    "        data=[quantiles],\n",
    "        dims=[\n",
    "            \"Start_time\", \n",
    "            \"Step_index\", \n",
    "            \"Percentile\"\n",
    "            ],\n",
    "        coords=dict(\n",
    "            Start_time=ensda.Time[0:1].values,\n",
    "            Step_index=np.arange(0, len(ensda_slice.Time), 1),\n",
    "            Percentile=np.arange(1, q.shape[1] + 1, 1),\n",
    "            XLONG=ensda_slice.XLONG.values,\n",
    "            XLAT=ensda_slice.XLAT.values\n",
    "        ),\n",
    "        attrs=dict(\n",
    "            description=\"Wind Speed 100m\",\n",
    "            units=\"m s-1\",\n",
    "        ),\n",
    "    )\n",
    "    return fx"
   ]
  },
  {
   "cell_type": "code",
   "execution_count": null,
   "metadata": {},
   "outputs": [],
   "source": [
    "# This function is currently quite slow...\n",
    "# Loop over the south_north dimension\n",
    "# for ii in range(0, len(ensda.XLAT)):\n",
    "for ii in range(0, 2):\n",
    "    # Loop over the west_east dimension\n",
    "    # for jj in range(0, len(ensda.XLONG)):\n",
    "    for jj in range(0, 2):\n",
    "        # Select data for only one location\n",
    "        ensda_slice = ensda.isel(south_north=ii, west_east=jj)\n",
    "        ensdf_slice = ensda_slice.T.to_pandas()\n",
    "        # We need an observation as a placeholder (it won't actually be used), \n",
    "        # so we'll use the one from the north buoy\n",
    "        data_t = pd.concat([obs_n['2020-02-11'], ensdf_slice], axis=1)\n",
    "        data_t = data_t.rename(columns={0: 'Obs'})\n",
    "        data_t = data_t.reset_index()\n",
    "        # Extract the quantiles using the BMA test fit\n",
    "        q = gamma_bma.quant_bma(fit, data_t, n_ens_members=5, quantiles=np.arange(0.01, 1, 0.01))\n",
    "        # Format the quantiles into a DataArray\n",
    "        fx_we_new = fxda(q, ensda_slice)\n",
    "        # Combine the DataArrays over the west_east dimension\n",
    "        if jj == 0:\n",
    "            fx_we = fx_we_new\n",
    "        else:\n",
    "            fx_we = xr.concat([fx_we, fx_we_new], 'west_east')\n",
    "    # Combine DataArrays over the south_north dimension\n",
    "    if ii == 0:\n",
    "        fx = fx_we\n",
    "    else:\n",
    "        fx = xr.concat([fx, fx_we], 'south_north')"
   ]
  },
  {
   "cell_type": "code",
   "execution_count": null,
   "metadata": {},
   "outputs": [],
   "source": [
    "# Open data from the full loop that I ran previously \n",
    "fx = xr.open_dataarray('../data/quantiles.nc')"
   ]
  },
  {
   "cell_type": "code",
   "execution_count": null,
   "metadata": {},
   "outputs": [],
   "source": [
    "# Plot the 10th percentile wind speed across the domain\n",
    "fx.sel(Step_index=0, Percentile=10).plot()"
   ]
  },
  {
   "cell_type": "code",
   "execution_count": null,
   "metadata": {},
   "outputs": [],
   "source": [
    "# Plot the 90th percentile wind speed across the domain\n",
    "fx.sel(Step_index=0, Percentile=90).plot()"
   ]
  },
  {
   "cell_type": "code",
   "execution_count": null,
   "metadata": {},
   "outputs": [],
   "source": []
  }
 ],
 "metadata": {
  "interpreter": {
   "hash": "419e07bb6a6cac3dbe3070add9cab248ac326587879038172cc7438d8f9ffe8d"
  },
  "kernelspec": {
   "display_name": "Python 3.8.10 64-bit ('oshwind': conda)",
   "name": "python3"
  },
  "language_info": {
   "codemirror_mode": {
    "name": "ipython",
    "version": 3
   },
   "file_extension": ".py",
   "mimetype": "text/x-python",
   "name": "python",
   "nbconvert_exporter": "python",
   "pygments_lexer": "ipython3",
   "version": "3.8.12"
  },
  "orig_nbformat": 4
 },
 "nbformat": 4,
 "nbformat_minor": 2
}
